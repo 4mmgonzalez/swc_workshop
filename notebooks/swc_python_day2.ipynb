{
 "cells": [
  {
   "cell_type": "code",
   "execution_count": 27,
   "metadata": {},
   "outputs": [
    {
     "name": "stdout",
     "output_type": "stream",
     "text": [
      "knuM\n"
     ]
    }
   ],
   "source": [
    "full_name= 'Walter Munk'\n",
    "print(full_name[:-5:-1])"
   ]
  },
  {
   "cell_type": "code",
   "execution_count": 29,
   "metadata": {},
   "outputs": [
    {
     "name": "stdout",
     "output_type": "stream",
     "text": [
      "desserts\n"
     ]
    }
   ],
   "source": [
    "word = 'stressed'\n",
    "print(word[::-1])"
   ]
  },
  {
   "cell_type": "code",
   "execution_count": 30,
   "metadata": {},
   "outputs": [
    {
     "name": "stdout",
     "output_type": "stream",
     "text": [
      "str\n"
     ]
    }
   ],
   "source": [
    "print(word[:3])"
   ]
  },
  {
   "cell_type": "code",
   "execution_count": 31,
   "metadata": {},
   "outputs": [
    {
     "name": "stdout",
     "output_type": "stream",
     "text": [
      "srse\n"
     ]
    }
   ],
   "source": [
    "print(word[::2])"
   ]
  },
  {
   "cell_type": "code",
   "execution_count": 28,
   "metadata": {},
   "outputs": [
    {
     "name": "stdout",
     "output_type": "stream",
     "text": [
      "W\n",
      "a\n",
      "l\n",
      "t\n",
      "e\n",
      "r\n",
      " \n",
      "M\n",
      "u\n",
      "n\n",
      "k\n"
     ]
    }
   ],
   "source": [
    "for char in full_name:\n",
    "    print(char)"
   ]
  },
  {
   "cell_type": "code",
   "execution_count": 48,
   "metadata": {},
   "outputs": [
    {
     "name": "stdout",
     "output_type": "stream",
     "text": [
      "0 25\n",
      "1 125\n",
      "2 625\n",
      "3 3125\n"
     ]
    }
   ],
   "source": [
    "x=5\n",
    "for i in range (0,4):\n",
    "    x = 5*x\n",
    "    print(i, x)"
   ]
  },
  {
   "cell_type": "code",
   "execution_count": 46,
   "metadata": {},
   "outputs": [
    {
     "name": "stdout",
     "output_type": "stream",
     "text": [
      "s\n",
      "t\n",
      "r\n",
      "e\n",
      "s\n",
      "s\n",
      "e\n",
      "d\n"
     ]
    }
   ],
   "source": [
    "for i in word: #same function of i, whether character or value\n",
    "    print(i)"
   ]
  },
  {
   "cell_type": "code",
   "execution_count": 63,
   "metadata": {},
   "outputs": [
    {
     "name": "stdout",
     "output_type": "stream",
     "text": [
      "0\n",
      "1\n",
      "3\n",
      "6\n",
      "10\n",
      "15\n",
      "21\n",
      "28\n",
      "36\n",
      "45\n",
      "55\n"
     ]
    }
   ],
   "source": [
    "total = 0\n",
    "for number in range (0,11):\n",
    "    total = total + number\n",
    "    print(total)"
   ]
  },
  {
   "cell_type": "code",
   "execution_count": 65,
   "metadata": {},
   "outputs": [
    {
     "name": "stdout",
     "output_type": "stream",
     "text": [
      "before total is: 0\n",
      "0 0\n",
      "before total is: 0\n",
      "1 1\n",
      "before total is: 1\n",
      "2 3\n",
      "before total is: 3\n",
      "3 6\n",
      "before total is: 6\n",
      "4 10\n",
      "before total is: 10\n",
      "5 15\n",
      "before total is: 15\n",
      "6 21\n",
      "before total is: 21\n",
      "7 28\n",
      "before total is: 28\n",
      "8 36\n",
      "before total is: 36\n",
      "9 45\n",
      "before total is: 45\n",
      "10 55\n"
     ]
    }
   ],
   "source": [
    "total = 0\n",
    "for number in range (0,11):\n",
    "    print('before total is:',total)\n",
    "    total = total + number\n",
    "    print(number, total)"
   ]
  },
  {
   "cell_type": "code",
   "execution_count": 67,
   "metadata": {},
   "outputs": [
    {
     "name": "stdout",
     "output_type": "stream",
     "text": [
      "0\n",
      "1\n",
      "3\n",
      "6\n",
      "10\n",
      "15\n",
      "21\n",
      "28\n",
      "36\n",
      "45\n",
      "55\n"
     ]
    }
   ],
   "source": [
    "y=0\n",
    "for x in range(11):\n",
    "    y=y+x\n",
    "    print(y)"
   ]
  },
  {
   "cell_type": "code",
   "execution_count": 70,
   "metadata": {},
   "outputs": [
    {
     "name": "stdout",
     "output_type": "stream",
     "text": [
      "12\n"
     ]
    }
   ],
   "source": [
    "total = 0\n",
    "for word in ['red','green','blue']:\n",
    "    total=total+len(word)\n",
    "print(total)"
   ]
  },
  {
   "cell_type": "markdown",
   "metadata": {},
   "source": [
    "Lists\n"
   ]
  },
  {
   "cell_type": "code",
   "execution_count": 71,
   "metadata": {},
   "outputs": [
    {
     "name": "stdout",
     "output_type": "stream",
     "text": [
      "primes are: [1, 3, 5, 7]\n"
     ]
    }
   ],
   "source": [
    "my_list = [1, 3, 5, 7]\n",
    "print('primes are:', my_list)"
   ]
  },
  {
   "cell_type": "code",
   "execution_count": 72,
   "metadata": {},
   "outputs": [
    {
     "name": "stdout",
     "output_type": "stream",
     "text": [
      "<class 'list'>\n"
     ]
    }
   ],
   "source": [
    "print(type(my_list))"
   ]
  },
  {
   "cell_type": "code",
   "execution_count": 73,
   "metadata": {},
   "outputs": [
    {
     "name": "stdout",
     "output_type": "stream",
     "text": [
      "first: 1 last: 7\n"
     ]
    }
   ],
   "source": [
    "print('first:', my_list[0], 'last:', my_list[-1])"
   ]
  },
  {
   "cell_type": "code",
   "execution_count": 74,
   "metadata": {},
   "outputs": [
    {
     "name": "stdout",
     "output_type": "stream",
     "text": [
      "1\n",
      "3\n",
      "5\n",
      "7\n"
     ]
    }
   ],
   "source": [
    "for i in my_list:\n",
    "    print(i)"
   ]
  },
  {
   "cell_type": "code",
   "execution_count": 75,
   "metadata": {},
   "outputs": [
    {
     "name": "stdout",
     "output_type": "stream",
     "text": [
      "['Munk', 'Keling', 'Sverdrup']\n"
     ]
    }
   ],
   "source": [
    "oceanographers = ['Munk', 'Keling', 'Sverdrup']\n",
    "print(oceanographers)"
   ]
  },
  {
   "cell_type": "code",
   "execution_count": 76,
   "metadata": {},
   "outputs": [
    {
     "name": "stdout",
     "output_type": "stream",
     "text": [
      "Keling\n"
     ]
    }
   ],
   "source": [
    "print(oceanographers[1])"
   ]
  },
  {
   "cell_type": "code",
   "execution_count": 78,
   "metadata": {},
   "outputs": [
    {
     "name": "stdout",
     "output_type": "stream",
     "text": [
      "oceanographers were: ['Munk', 'Keling', 'Sverdrup']\n",
      "oceanographers are now: ['Munk', 'Keeling', 'Sverdrup']\n"
     ]
    }
   ],
   "source": [
    "print('oceanographers were:', oceanographers)\n",
    "oceanographers[1] = 'Keeling'\n",
    "print('oceanographers are now:', oceanographers)"
   ]
  },
  {
   "cell_type": "code",
   "execution_count": 86,
   "metadata": {},
   "outputs": [],
   "source": [
    "name = 'Ralph Kellini'"
   ]
  },
  {
   "cell_type": "code",
   "execution_count": 81,
   "metadata": {},
   "outputs": [
    {
     "name": "stdout",
     "output_type": "stream",
     "text": [
      "i\n"
     ]
    }
   ],
   "source": [
    "print(name[-1])"
   ]
  },
  {
   "cell_type": "code",
   "execution_count": 82,
   "metadata": {},
   "outputs": [
    {
     "ename": "TypeError",
     "evalue": "'str' object does not support item assignment",
     "output_type": "error",
     "traceback": [
      "\u001b[0;31m---------------------------------------------------------------------------\u001b[0m",
      "\u001b[0;31mTypeError\u001b[0m                                 Traceback (most recent call last)",
      "\u001b[0;32m<ipython-input-82-f1bcc912ddcb>\u001b[0m in \u001b[0;36m<module>\u001b[0;34m\u001b[0m\n\u001b[0;32m----> 1\u001b[0;31m \u001b[0mname\u001b[0m\u001b[0;34m[\u001b[0m\u001b[0;34m-\u001b[0m\u001b[0;36m1\u001b[0m\u001b[0;34m]\u001b[0m\u001b[0;34m=\u001b[0m\u001b[0;34m'g'\u001b[0m\u001b[0;34m\u001b[0m\u001b[0;34m\u001b[0m\u001b[0m\n\u001b[0m",
      "\u001b[0;31mTypeError\u001b[0m: 'str' object does not support item assignment"
     ]
    }
   ],
   "source": [
    "name[-1]='g'"
   ]
  },
  {
   "cell_type": "code",
   "execution_count": 87,
   "metadata": {},
   "outputs": [
    {
     "name": "stdout",
     "output_type": "stream",
     "text": [
      "name was: Ralph Kellini\n",
      "name now is: Keeling\n"
     ]
    }
   ],
   "source": [
    "print('name was:', name)\n",
    "name = 'Keeling'\n",
    "print('name now is:', name)"
   ]
  },
  {
   "cell_type": "code",
   "execution_count": 88,
   "metadata": {},
   "outputs": [],
   "source": [
    "grades = ['SIO221A', 9.9, 'SIO217B', 7.5, 'SIO211A', 8]"
   ]
  },
  {
   "cell_type": "code",
   "execution_count": 89,
   "metadata": {},
   "outputs": [
    {
     "name": "stdout",
     "output_type": "stream",
     "text": [
      "['SIO221A', 9.9, 'SIO217B', 7.5, 'SIO211A', 8]\n"
     ]
    }
   ],
   "source": [
    "print(grades)"
   ]
  },
  {
   "cell_type": "code",
   "execution_count": 90,
   "metadata": {},
   "outputs": [
    {
     "data": {
      "text/plain": [
       "'SIO221A'"
      ]
     },
     "execution_count": 90,
     "metadata": {},
     "output_type": "execute_result"
    }
   ],
   "source": [
    "grades[0]"
   ]
  },
  {
   "cell_type": "code",
   "execution_count": 91,
   "metadata": {},
   "outputs": [
    {
     "ename": "AttributeError",
     "evalue": "'float' object has no attribute 'dtype'",
     "output_type": "error",
     "traceback": [
      "\u001b[0;31m---------------------------------------------------------------------------\u001b[0m",
      "\u001b[0;31mAttributeError\u001b[0m                            Traceback (most recent call last)",
      "\u001b[0;32m<ipython-input-91-997b4be50bdf>\u001b[0m in \u001b[0;36m<module>\u001b[0;34m\u001b[0m\n\u001b[0;32m----> 1\u001b[0;31m \u001b[0mprint\u001b[0m\u001b[0;34m(\u001b[0m\u001b[0mgrades\u001b[0m\u001b[0;34m[\u001b[0m\u001b[0;36m1\u001b[0m\u001b[0;34m]\u001b[0m\u001b[0;34m.\u001b[0m\u001b[0mdtype\u001b[0m\u001b[0;34m)\u001b[0m\u001b[0;34m\u001b[0m\u001b[0;34m\u001b[0m\u001b[0m\n\u001b[0m",
      "\u001b[0;31mAttributeError\u001b[0m: 'float' object has no attribute 'dtype'"
     ]
    }
   ],
   "source": [
    "print(grades[1].dtype)"
   ]
  },
  {
   "cell_type": "code",
   "execution_count": 93,
   "metadata": {},
   "outputs": [
    {
     "name": "stdout",
     "output_type": "stream",
     "text": [
      "['peppers', 'onions', 'jalapenos', 'tomatos']\n"
     ]
    }
   ],
   "source": [
    "salsa = ['peppers', 'onions', 'jalapenos', 'tomatos']\n",
    "print(salsa)"
   ]
  },
  {
   "cell_type": "code",
   "execution_count": 95,
   "metadata": {},
   "outputs": [
    {
     "name": "stdout",
     "output_type": "stream",
     "text": [
      "['peppers', 'onions', 'jalapenos', 'tomatos']\n"
     ]
    }
   ],
   "source": [
    "lukes_salsa = salsa\n",
    "print(lukes_salsa)"
   ]
  },
  {
   "cell_type": "code",
   "execution_count": 96,
   "metadata": {},
   "outputs": [
    {
     "name": "stdout",
     "output_type": "stream",
     "text": [
      "['peppers', 'onions', 'jalapenos', 'tomatos']\n",
      "['peppers', 'onions', 'jalapenos', 'tomatos']\n",
      "['peppers', 'onions', 'cilantro', 'tomatos']\n",
      "['peppers', 'onions', 'cilantro', 'tomatos']\n"
     ]
    }
   ],
   "source": [
    "print(salsa)\n",
    "print(lukes_salsa)\n",
    "lukes_salsa[2] = 'cilantro'\n",
    "print(salsa)\n",
    "print(lukes_salsa)"
   ]
  },
  {
   "cell_type": "code",
   "execution_count": 98,
   "metadata": {},
   "outputs": [
    {
     "name": "stdout",
     "output_type": "stream",
     "text": [
      "['peppers', 'onions', 'jalapenos', 'tomatos']\n",
      "['peppers', 'onions', 'cilantro', 'tomatos']\n"
     ]
    }
   ],
   "source": [
    "#you have to explicitly make a copy to only change one list\n",
    "my_salsa = ['peppers', 'onions', 'jalapenos', 'tomatos']\n",
    "lukes_salsa = list(my_salsa)\n",
    "lukes_salsa[2]='cilantro'\n",
    "print(my_salsa)\n",
    "print(lukes_salsa)"
   ]
  },
  {
   "cell_type": "code",
   "execution_count": 100,
   "metadata": {},
   "outputs": [
    {
     "name": "stdout",
     "output_type": "stream",
     "text": [
      "[['density', 'CTD'], ['velocity', 'ADCP'], ['chlorphyll', 'fluorometer']]\n"
     ]
    }
   ],
   "source": [
    "cruise = [['density', 'CTD'], ['velocity', 'ADCP'], ['chlorphyll', 'fluorometer']]\n",
    "print(cruise)"
   ]
  },
  {
   "cell_type": "code",
   "execution_count": 101,
   "metadata": {},
   "outputs": [
    {
     "name": "stdout",
     "output_type": "stream",
     "text": [
      "['density', 'CTD']\n"
     ]
    }
   ],
   "source": [
    "print(cruise[0])"
   ]
  },
  {
   "cell_type": "code",
   "execution_count": 103,
   "metadata": {},
   "outputs": [
    {
     "name": "stdout",
     "output_type": "stream",
     "text": [
      "density\n"
     ]
    }
   ],
   "source": [
    "print(cruise[0][0])"
   ]
  },
  {
   "cell_type": "code",
   "execution_count": 106,
   "metadata": {},
   "outputs": [
    {
     "name": "stdout",
     "output_type": "stream",
     "text": [
      "fluorometer\n"
     ]
    }
   ],
   "source": [
    "print(cruise[2][1])"
   ]
  },
  {
   "cell_type": "code",
   "execution_count": 107,
   "metadata": {},
   "outputs": [
    {
     "name": "stdout",
     "output_type": "stream",
     "text": [
      "fluorometer\n"
     ]
    }
   ],
   "source": [
    "print(cruise[-1][-1])"
   ]
  },
  {
   "cell_type": "code",
   "execution_count": 108,
   "metadata": {},
   "outputs": [
    {
     "name": "stdout",
     "output_type": "stream",
     "text": [
      "[['density', 'CTD'], ['velocity', 'ADCP'], ['chlorphyll', 'fluorometer']]\n"
     ]
    }
   ],
   "source": [
    "print(cruise)"
   ]
  },
  {
   "cell_type": "code",
   "execution_count": 109,
   "metadata": {},
   "outputs": [
    {
     "name": "stdout",
     "output_type": "stream",
     "text": [
      "[['density', 'CTD'], ['velocity', 'ADCP'], ['chlorphyll', 'fluorometer'], ['salinity', 'CTD']]\n"
     ]
    }
   ],
   "source": [
    "#appending information to a list\n",
    "cruise.append(['salinity', 'CTD'])\n",
    "print(cruise)"
   ]
  },
  {
   "cell_type": "code",
   "execution_count": 110,
   "metadata": {},
   "outputs": [
    {
     "name": "stdout",
     "output_type": "stream",
     "text": [
      "[['density', 'CTD'], ['velocity', 'ADCP'], ['chlorphyll', 'fluorometer'], ['salinity', 'CTD'], ['density', 'CTD'], ['velocity', 'ADCP'], ['chlorphyll', 'fluorometer'], ['salinity', 'CTD']]\n"
     ]
    }
   ],
   "source": [
    "print(2*(cruise))"
   ]
  },
  {
   "cell_type": "code",
   "execution_count": 111,
   "metadata": {},
   "outputs": [
    {
     "name": "stdout",
     "output_type": "stream",
     "text": [
      "[['density', 'CTD'], ['velocity', 'ADCP'], ['chlorphyll', 'fluorometer'], ['salinity', 'CTD'], ['density', 'CTD'], ['velocity', 'ADCP'], ['chlorphyll', 'fluorometer'], ['salinity', 'CTD']]\n"
     ]
    }
   ],
   "source": [
    "print(cruise+cruise)"
   ]
  },
  {
   "cell_type": "code",
   "execution_count": 184,
   "metadata": {},
   "outputs": [
    {
     "name": "stdout",
     "output_type": "stream",
     "text": [
      "[1, 3]\n"
     ]
    }
   ],
   "source": [
    "odds = [1,3]\n",
    "print(odds)"
   ]
  },
  {
   "cell_type": "code",
   "execution_count": 185,
   "metadata": {},
   "outputs": [
    {
     "name": "stdout",
     "output_type": "stream",
     "text": [
      "[1, 3, 5]\n"
     ]
    }
   ],
   "source": [
    "#adding to a list\n",
    "print(odds + [5])"
   ]
  },
  {
   "cell_type": "code",
   "execution_count": 186,
   "metadata": {},
   "outputs": [
    {
     "name": "stdout",
     "output_type": "stream",
     "text": [
      "odds before were: [1, 3]\n",
      "odds after are: [1, 3, 5]\n"
     ]
    }
   ],
   "source": [
    "print('odds before were:', odds)\n",
    "odds.append(5)\n",
    "print('odds after are:', odds)"
   ]
  },
  {
   "cell_type": "code",
   "execution_count": 187,
   "metadata": {},
   "outputs": [
    {
     "name": "stdout",
     "output_type": "stream",
     "text": [
      "[5, 3, 1]\n",
      "[1, 3, 5]\n"
     ]
    }
   ],
   "source": [
    "print(odds[::-1])\n",
    "print(odds)"
   ]
  },
  {
   "cell_type": "code",
   "execution_count": 188,
   "metadata": {},
   "outputs": [
    {
     "name": "stdout",
     "output_type": "stream",
     "text": [
      "[1, 3, 5]\n",
      "[5, 3, 1]\n"
     ]
    }
   ],
   "source": [
    "print(odds)\n",
    "odds.reverse()\n",
    "print(odds)"
   ]
  },
  {
   "cell_type": "code",
   "execution_count": 140,
   "metadata": {},
   "outputs": [
    {
     "name": "stdout",
     "output_type": "stream",
     "text": [
      "['s', 'u', 'r', 'f']\n"
     ]
    }
   ],
   "source": [
    "word = 'surf'\n",
    "my_list = []\n",
    "for char in 'surf':\n",
    "    my_list = my_list + [char]\n",
    "print (my_list)"
   ]
  },
  {
   "cell_type": "code",
   "execution_count": 144,
   "metadata": {},
   "outputs": [
    {
     "name": "stdout",
     "output_type": "stream",
     "text": [
      "[['s']]\n",
      "[['s'], ['u']]\n",
      "[['s'], ['u'], ['r']]\n",
      "[['s'], ['u'], ['r'], ['f']]\n"
     ]
    }
   ],
   "source": [
    "#append has the same function as adding\n",
    "word = 'surf'\n",
    "my_list = []\n",
    "for char in word:\n",
    "    my_list.append([char])\n",
    "    print(my_list)"
   ]
  },
  {
   "cell_type": "code",
   "execution_count": 189,
   "metadata": {},
   "outputs": [],
   "source": [
    "planets = ['Tatooine', 'Naboo', 'Arakis', 'Jupiter', 'Alderan']"
   ]
  },
  {
   "cell_type": "code",
   "execution_count": 190,
   "metadata": {},
   "outputs": [
    {
     "name": "stdout",
     "output_type": "stream",
     "text": [
      "['Tatooine', 'Naboo', 'Arakis', 'Jupiter', 'Alderan']\n"
     ]
    }
   ],
   "source": [
    "print(planets)"
   ]
  },
  {
   "cell_type": "code",
   "execution_count": 192,
   "metadata": {},
   "outputs": [
    {
     "name": "stdout",
     "output_type": "stream",
     "text": [
      "['Tatooine', 'Naboo']\n"
     ]
    }
   ],
   "source": [
    "star_wars_planets = planets[0:2]\n",
    "print(star_wars_planets)"
   ]
  },
  {
   "cell_type": "code",
   "execution_count": 195,
   "metadata": {},
   "outputs": [
    {
     "name": "stdout",
     "output_type": "stream",
     "text": [
      "2013\n",
      "['astatine', 'At']\n"
     ]
    }
   ],
   "source": [
    "string_for_slicing = 'Observation date: 02-Feb-2013'\n",
    "list_for_slicing = [['fluorine', 'F'], ['chlorine', 'Cl'], ['bromine', 'Br'], ['iodine', 'I'], ['astatine', 'At']]\n",
    "sliced_string = string_for_slicing[-4:]\n",
    "sliced_list = list_for_slicing[-1]\n",
    "print(sliced_string)\n",
    "print(sliced_list)"
   ]
  },
  {
   "cell_type": "code",
   "execution_count": 196,
   "metadata": {},
   "outputs": [
    {
     "name": "stdout",
     "output_type": "stream",
     "text": [
      "29\n"
     ]
    }
   ],
   "source": [
    "print(len(string_for_slicing))"
   ]
  },
  {
   "cell_type": "code",
   "execution_count": 197,
   "metadata": {},
   "outputs": [
    {
     "name": "stdout",
     "output_type": "stream",
     "text": [
      "2013\n"
     ]
    }
   ],
   "source": [
    "print(string_for_slicing[25:])"
   ]
  },
  {
   "cell_type": "code",
   "execution_count": 198,
   "metadata": {},
   "outputs": [
    {
     "name": "stdout",
     "output_type": "stream",
     "text": [
      "2013\n"
     ]
    }
   ],
   "source": [
    "print(string_for_slicing[25:29])"
   ]
  },
  {
   "cell_type": "code",
   "execution_count": 199,
   "metadata": {},
   "outputs": [
    {
     "name": "stdout",
     "output_type": "stream",
     "text": [
      "[['chlorine', 'Cl'], ['bromine', 'Br'], ['iodine', 'I'], ['astatine', 'At']]\n"
     ]
    }
   ],
   "source": [
    "print(list_for_slicing[1:])"
   ]
  },
  {
   "cell_type": "code",
   "execution_count": 200,
   "metadata": {},
   "outputs": [
    {
     "name": "stdout",
     "output_type": "stream",
     "text": [
      "[['chlorine', 'Cl'], ['bromine', 'Br'], ['iodine', 'I'], ['astatine', 'At']]\n"
     ]
    }
   ],
   "source": [
    "print(list_for_slicing[1:5])"
   ]
  },
  {
   "cell_type": "code",
   "execution_count": 202,
   "metadata": {},
   "outputs": [],
   "source": [
    "beatles = \"In an octopus's garden in the shade\"\n"
   ]
  },
  {
   "cell_type": "code",
   "execution_count": 203,
   "metadata": {},
   "outputs": [
    {
     "name": "stdout",
     "output_type": "stream",
     "text": [
      "I notpssgre ntesae\n"
     ]
    }
   ],
   "source": [
    "print(beatles[::2])"
   ]
  },
  {
   "cell_type": "code",
   "execution_count": 218,
   "metadata": {},
   "outputs": [],
   "source": [
    "spring_quarter = [['linear algebra','A'],['philosophy','B-',],['fluid dynamics', 'A+'],['history','A-']]"
   ]
  },
  {
   "cell_type": "code",
   "execution_count": 219,
   "metadata": {},
   "outputs": [
    {
     "name": "stdout",
     "output_type": "stream",
     "text": [
      "[['linear algebra', 'A'], ['philosophy', 'B-'], ['fluid dynamics', 'A+'], ['history', 'A-']]\n"
     ]
    }
   ],
   "source": [
    "print(spring_quarter)"
   ]
  },
  {
   "cell_type": "code",
   "execution_count": 221,
   "metadata": {},
   "outputs": [
    {
     "name": "stdout",
     "output_type": "stream",
     "text": [
      "linear algebra\n",
      "A\n",
      "philosophy\n",
      "B-\n",
      "fluid dynamics\n",
      "A+\n",
      "history\n",
      "A-\n"
     ]
    }
   ],
   "source": [
    "#list(something) is the same as [something]\n",
    "#this is a separation of one list into two\n",
    "grades = []\n",
    "classes = []\n",
    "for item in spring_quarter:\n",
    "    print(item[0])\n",
    "    print(item[1])\n",
    "    grades.append(item[1])\n",
    "    classes.append(item[0])"
   ]
  },
  {
   "cell_type": "code",
   "execution_count": 223,
   "metadata": {},
   "outputs": [
    {
     "name": "stdout",
     "output_type": "stream",
     "text": [
      "my grades: ['A', 'B-', 'A+', 'A-']\n",
      "my classes: ['linear algebra', 'philosophy', 'fluid dynamics', 'history']\n"
     ]
    }
   ],
   "source": [
    "print('my grades:', grades)\n",
    "print('my classes:', classes)"
   ]
  },
  {
   "cell_type": "markdown",
   "metadata": {},
   "source": [
    "Conditions"
   ]
  },
  {
   "cell_type": "code",
   "execution_count": 224,
   "metadata": {},
   "outputs": [],
   "source": [
    "my_variable = 5"
   ]
  },
  {
   "cell_type": "code",
   "execution_count": 226,
   "metadata": {},
   "outputs": [
    {
     "name": "stdout",
     "output_type": "stream",
     "text": [
      "<class 'bool'>\n"
     ]
    }
   ],
   "source": [
    "print(type(5 == 4))"
   ]
  },
  {
   "cell_type": "code",
   "execution_count": 227,
   "metadata": {},
   "outputs": [
    {
     "name": "stdout",
     "output_type": "stream",
     "text": [
      "True\n"
     ]
    }
   ],
   "source": [
    "print(5 == 5)"
   ]
  },
  {
   "cell_type": "code",
   "execution_count": 229,
   "metadata": {},
   "outputs": [
    {
     "name": "stdout",
     "output_type": "stream",
     "text": [
      "3.54 is large\n"
     ]
    }
   ],
   "source": [
    "mass = 3.54\n",
    "if mass > 3.0:\n",
    "    print(mass, 'is large')"
   ]
  },
  {
   "cell_type": "code",
   "execution_count": 233,
   "metadata": {},
   "outputs": [],
   "source": [
    "mass = 2.1\n",
    "if mass > 3.0:\n",
    "    print(mass, 'is large')"
   ]
  },
  {
   "cell_type": "code",
   "execution_count": 234,
   "metadata": {},
   "outputs": [
    {
     "name": "stdout",
     "output_type": "stream",
     "text": [
      "False\n"
     ]
    }
   ],
   "source": [
    "mass = 2.1\n",
    "print(mass > 3.0)"
   ]
  },
  {
   "cell_type": "code",
   "execution_count": 238,
   "metadata": {},
   "outputs": [
    {
     "name": "stdout",
     "output_type": "stream",
     "text": [
      "5.0 is greater than 3.0\n"
     ]
    }
   ],
   "source": [
    "mass = 5.0\n",
    "if mass > 3.0:\n",
    "    print(mass, 'is greater than 3.0')\n",
    "else:\n",
    "    print(mass, 'is not greater than 3.0')"
   ]
  },
  {
   "cell_type": "code",
   "execution_count": 246,
   "metadata": {},
   "outputs": [
    {
     "name": "stdout",
     "output_type": "stream",
     "text": [
      "4.0 is large\n"
     ]
    }
   ],
   "source": [
    "mass = 4.\n",
    "if mass > 3.0:\n",
    "    print (mass, 'is large')\n",
    "elif mass == 3.0:\n",
    "    print (mass, 'is equal')\n",
    "else:\n",
    "    print(mass, 'is small')"
   ]
  },
  {
   "cell_type": "code",
   "execution_count": 247,
   "metadata": {},
   "outputs": [
    {
     "name": "stdout",
     "output_type": "stream",
     "text": [
      "3.54 is large\n",
      "2.07 is small\n",
      "9.22 is huge\n",
      "1.86 is small\n",
      "1.71 is small\n"
     ]
    }
   ],
   "source": [
    "masses = [3.54, 2.07, 9.22, 1.86, 1.71]\n",
    "\n",
    "for m in masses:\n",
    "    if m >9:\n",
    "        print(m, 'is huge')\n",
    "    elif m>3:\n",
    "        print(m, 'is large')\n",
    "    else:\n",
    "        print(m, 'is small')"
   ]
  },
  {
   "cell_type": "code",
   "execution_count": 251,
   "metadata": {},
   "outputs": [
    {
     "name": "stdout",
     "output_type": "stream",
     "text": [
      "grade is C\n"
     ]
    }
   ],
   "source": [
    "#in this case, the if loop stops too early, because the first option satisfies the condition\n",
    "#order of ifs and elifs matters\n",
    "grade = 85\n",
    "\n",
    "if grade >= 70:\n",
    "    print('grade is C')\n",
    "elif grade >= 80:\n",
    "    print('grade is B')\n",
    "elif grade >=90:\n",
    "    print('grade is A')"
   ]
  },
  {
   "cell_type": "code",
   "execution_count": 252,
   "metadata": {},
   "outputs": [
    {
     "name": "stdout",
     "output_type": "stream",
     "text": [
      "grade is B\n"
     ]
    }
   ],
   "source": [
    "grade = 85\n",
    "if grade >=90:\n",
    "    print('grade is A')\n",
    "elif grade >= 80:\n",
    "    print('grade is B')\n",
    "elif grade >= 70:\n",
    "    print('grade is C')"
   ]
  },
  {
   "cell_type": "code",
   "execution_count": 253,
   "metadata": {},
   "outputs": [],
   "source": [
    "import numpy as np\n",
    "import matplotlib.pyplot as plt\n",
    "import glob"
   ]
  },
  {
   "cell_type": "code",
   "execution_count": 256,
   "metadata": {},
   "outputs": [
    {
     "name": "stdout",
     "output_type": "stream",
     "text": [
      "['../data/chlorophyll-01.csv', '../data/chlorophyll-02.csv', '../data/chlorophyll-03.csv', '../data/chlorophyll-04.csv', '../data/chlorophyll-05.csv', '../data/chlorophyll-06.csv', '../data/chlorophyll-07.csv', '../data/chlorophyll-08.csv', '../data/chlorophyll-09.csv', '../data/chlorophyll-10.csv', '../data/chlorophyll-11.csv', '../data/chlorophyll-12.csv']\n"
     ]
    }
   ],
   "source": [
    "files = sorted(glob.glob('../data/chlorophyll-*.csv'))\n",
    "print(files)\n",
    "#data = np.loadtxt('../data/chlorophyll-01.csv', delimiter=',')"
   ]
  },
  {
   "cell_type": "code",
   "execution_count": null,
   "metadata": {},
   "outputs": [],
   "source": []
  },
  {
   "cell_type": "code",
   "execution_count": 261,
   "metadata": {},
   "outputs": [
    {
     "name": "stdout",
     "output_type": "stream",
     "text": [
      "../data/chlorophyll-01.csv looks ok\n",
      "../data/chlorophyll-02.csv has a problem: negative mean\n",
      "../data/chlorophyll-03.csv looks ok\n",
      "../data/chlorophyll-04.csv looks ok\n",
      "../data/chlorophyll-05.csv looks ok\n",
      "../data/chlorophyll-06.csv looks ok\n",
      "../data/chlorophyll-07.csv looks ok\n",
      "../data/chlorophyll-08.csv looks ok\n",
      "../data/chlorophyll-09.csv looks ok\n",
      "../data/chlorophyll-10.csv looks ok\n",
      "../data/chlorophyll-11.csv looks ok\n",
      "../data/chlorophyll-12.csv looks ok\n"
     ]
    }
   ],
   "source": [
    "files = sorted(glob.glob('../data/chlorophyll-*.csv'))\n",
    "for f in files:\n",
    "    \n",
    "    data = np.loadtxt(f, delimiter=',')\n",
    "    mean_data = np.mean(data)\n",
    "    if mean_data < 0:\n",
    "        print(f,'has a problem: negative mean')\n",
    "    else:\n",
    "        print(f, 'looks ok')\n",
    "    #ave_profile = np.mean(data, axis=0)\n",
    "    #fig=plt.figure(figsize=(6,8))\n",
    "    #ax=fig.add_subplot(111)\n",
    "    #ax.plot(ave_profile)\n",
    "    #print('The mean is:',np.mean(data))"
   ]
  },
  {
   "cell_type": "code",
   "execution_count": 273,
   "metadata": {},
   "outputs": [],
   "source": [
    "#the 2nd file is flawwed so we only consider the positive valued mean data\n",
    "all_means = []\n",
    "for f in files:\n",
    "    data = np.loadtxt(f, delimiter=',')\n",
    "    ave_profile = np.mean(data, axis=0)\n",
    "    mean_data = np.mean(data)\n",
    "    if mean_data>0:\n",
    "        all_means.append(ave_profile)"
   ]
  },
  {
   "cell_type": "code",
   "execution_count": 274,
   "metadata": {},
   "outputs": [
    {
     "name": "stdout",
     "output_type": "stream",
     "text": [
      "11\n"
     ]
    }
   ],
   "source": [
    "print(len(all_means))"
   ]
  },
  {
   "cell_type": "code",
   "execution_count": 275,
   "metadata": {},
   "outputs": [
    {
     "data": {
      "text/plain": [
       "array([0.40166667, 0.58833333, 0.685     , 0.755     , 0.69166667,\n",
       "       0.52333333, 0.41833333, 0.34      , 0.29333333, 0.24666667,\n",
       "       0.20333333, 0.15833333, 0.14166667, 0.12833333, 0.11666667,\n",
       "       0.10166667, 0.1       , 0.09833333, 0.09833333, 0.09833333,\n",
       "       0.09833333, 0.09833333, 0.105     , 0.105     , 0.1       ,\n",
       "       0.1       , 0.10333333, 0.10333333, 0.10333333, 0.10833333])"
      ]
     },
     "execution_count": 275,
     "metadata": {},
     "output_type": "execute_result"
    }
   ],
   "source": [
    "#creating a list of arrays\n",
    "#this is a single ave_profile\n",
    "all_means[0]"
   ]
  },
  {
   "cell_type": "code",
   "execution_count": 276,
   "metadata": {},
   "outputs": [
    {
     "data": {
      "text/plain": [
       "[<matplotlib.lines.Line2D at 0x11ab1f1d0>]"
      ]
     },
     "execution_count": 276,
     "metadata": {},
     "output_type": "execute_result"
    },
    {
     "data": {
      "image/png": "[encoded data removed]",
      "text/plain": [
       "<Figure size 432x288 with 1 Axes>"
      ]
     },
     "metadata": {
      "needs_background": "light"
     },
     "output_type": "display_data"
    }
   ],
   "source": [
    "plt.plot(all_means[-1])"
   ]
  },
  {
   "cell_type": "code",
   "execution_count": 277,
   "metadata": {},
   "outputs": [
    {
     "name": "stdout",
     "output_type": "stream",
     "text": [
      "(30,)\n"
     ]
    }
   ],
   "source": [
    "#per each profile, there are 30 depth values\n",
    "print(all_means[0].shape)"
   ]
  },
  {
   "cell_type": "code",
   "execution_count": 278,
   "metadata": {},
   "outputs": [
    {
     "name": "stdout",
     "output_type": "stream",
     "text": [
      "(11, 30)\n"
     ]
    }
   ],
   "source": [
    "#2-d array with rows of 12 files and columns of 30 depths; 11 shown because one file is negative\n",
    "mean_profile = np.array(all_means)\n",
    "print(mean_profile.shape)"
   ]
  },
  {
   "cell_type": "code",
   "execution_count": 279,
   "metadata": {},
   "outputs": [
    {
     "data": {
      "text/plain": [
       "[<matplotlib.lines.Line2D at 0x11ab4b4e0>]"
      ]
     },
     "execution_count": 279,
     "metadata": {},
     "output_type": "execute_result"
    },
    {
     "data": {
      "image/png": "[encoded data removed]",
      "text/plain": [
       "<Figure size 432x288 with 1 Axes>"
      ]
     },
     "metadata": {
      "needs_background": "light"
     },
     "output_type": "display_data"
    }
   ],
   "source": [
    "#combining all 12 profiles to one axis\n",
    "#the 2nd file had an error, so it is altering the outcome; it shouldn't be appended\n",
    "\n",
    "plt.plot(np.mean(mean_profile, axis=0))"
   ]
  },
  {
   "cell_type": "code",
   "execution_count": 286,
   "metadata": {},
   "outputs": [
    {
     "data": {
      "text/plain": [
       "Text(0.5, 1.0, 'Mean profile across all missions')"
      ]
     },
     "execution_count": 286,
     "metadata": {},
     "output_type": "execute_result"
    },
    {
     "data": {
      "image/png": "[encoded data removed]",
      "text/plain": [
       "<Figure size 432x288 with 1 Axes>"
      ]
     },
     "metadata": {
      "needs_background": "light"
     },
     "output_type": "display_data"
    }
   ],
   "source": [
    "import numpy as np\n",
    "import matplotlib.pyplot as plt\n",
    "import glob\n",
    "depth = -1*np.arange(10,310,10)\n",
    "all_means = []\n",
    "\n",
    "for f in files:\n",
    "    data = np.loadtxt(f,delimiter=',')\n",
    "    ave_profile=np.mean(data, axis=0)\n",
    "    mean_data = np.mean(data)\n",
    "    if mean_data>0:\n",
    "        all_means.append(ave_profile)\n",
    "        \n",
    "mean_profile = np.array(all_means)\n",
    "fig = plt.figure()\n",
    "ax = fig.add_subplot(111)\n",
    "ax.plot(np.mean(mean_profile, axis=0), depth)\n",
    "ax.set_ylabel('Depth [m]', fontsize=14)\n",
    "ax.set_xlabel('Chl [mg/m^3]', fontsize=14)\n",
    "ax.set_title('Mean profile across all missions', fontsize=16)"
   ]
  },
  {
   "cell_type": "code",
   "execution_count": null,
   "metadata": {},
   "outputs": [],
   "source": []
  },
  {
   "cell_type": "code",
   "execution_count": null,
   "metadata": {},
   "outputs": [],
   "source": []
  },
  {
   "cell_type": "code",
   "execution_count": null,
   "metadata": {},
   "outputs": [],
   "source": []
  }
 ],
 "metadata": {
  "kernelspec": {
   "display_name": "Python 3",
   "language": "python",
   "name": "python3"
  },
  "language_info": {
   "codemirror_mode": {
    "name": "ipython",
    "version": 3
   },
   "file_extension": ".py",
   "mimetype": "text/x-python",
   "name": "python",
   "nbconvert_exporter": "python",
   "pygments_lexer": "ipython3",
   "version": "3.7.3"
  }
 },
 "nbformat": 4,
 "nbformat_minor": 2
}
